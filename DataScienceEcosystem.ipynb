{
 "cells": [
  {
   "cell_type": "markdown",
   "id": "1f32a9d5-5173-4675-831b-f1db4f678d06",
   "metadata": {},
   "source": [
    "<h1>Data science tools and Ecosystem</h1>"
   ]
  },
  {
   "cell_type": "markdown",
   "id": "79d65025-546a-4493-8b79-bbf32bd019be",
   "metadata": {},
   "source": [
    "<p>In this notebook, Data Science Tools and Ecosystem are summarised.</p>"
   ]
  },
  {
   "cell_type": "markdown",
   "id": "6d449722-7811-4d21-b448-4d4cb9285fb0",
   "metadata": {},
   "source": [
    "<h5>Objectives:</h5>\n",
    "<ul>\n",
    "    <l>Popular languages in data science</l><br>\n",
    "    <l>Libraries in data science</l><br>\n",
    "    <l>Data science tools</l><br>\n",
    "    <l>Coding in python</l>\n",
    "</ul>"
   ]
  },
  {
   "cell_type": "markdown",
   "id": "3f0bb3b2-70ab-4f9c-96a6-c5afdbe428ad",
   "metadata": {},
   "source": [
    "<p>Some of the popular languages that data scientists use are:</p>\n",
    "<ol><l>python</l><br>\n",
    "    <l>R</l><br>\n",
    "    <l>Scala</l><br>\n",
    "    <l>Julia</l>\n",
    "</ol>"
   ]
  },
  {
   "attachments": {},
   "cell_type": "markdown",
   "id": "b3df9fba-fefa-4ad7-b4ae-e2a4418f50a0",
   "metadata": {},
   "source": [
    "<P>Some of the commonly used libraries used by Data Scientist include:</P>\n",
    "<ol>\n",
    "    <l>Numpy</l><br>\n",
    "    <l>Scikitlearn</l><br>\n",
    "    <l>Matplotlib</l><br>\n",
    "    <l>Pandas</l>\n",
    "</ol>"
   ]
  },
  {
   "cell_type": "markdown",
   "id": "fa097b1b-22a5-4c0e-b3d3-0f7910bacae9",
   "metadata": {},
   "source": [
    "<table>\n",
    "    <thead>\n",
    "        <tr>\n",
    "            <th><h1>Data Science tools</h1></th>\n",
    "        </tr>\n",
    "    </thead>\n",
    "    <tbody>\n",
    "        <tr>\n",
    "            <td>Jupyter lab</td>\n",
    "        </tr>\n",
    "        <tr>\n",
    "            <td>Anaconda</td>\n",
    "        </tr>\n",
    "        <tr>\n",
    "            <td>Apache spark</td>\n",
    "        </tr>\n",
    "        <tr>\n",
    "            <td> Apache Hadoop</td>\n",
    "        </tr>\n",
    "        <tr>\n",
    "            <td>IBM Watson studio</td>\n",
    "        </tr>\n",
    "    </tbody>\n",
    "</table>"
   ]
  },
  {
   "cell_type": "markdown",
   "id": "74a837a4-073e-44e8-b3d3-87693eadb410",
   "metadata": {},
   "source": [
    "<h3>Below are a few examples of evaluating arithmetic expressions in python</h3>"
   ]
  },
  {
   "cell_type": "code",
   "execution_count": 6,
   "id": "23216592-c427-403b-87fa-0e0a817a3307",
   "metadata": {},
   "outputs": [
    {
     "data": {
      "text/plain": [
       "17"
      ]
     },
     "execution_count": 6,
     "metadata": {},
     "output_type": "execute_result"
    }
   ],
   "source": [
    "# This is a simple arithmetic expression to multiply then add integers.\n",
    "(3*4)+5"
   ]
  },
  {
   "cell_type": "code",
   "execution_count": 7,
   "id": "df1101f5-bb00-4962-aa3b-89bf5674d968",
   "metadata": {},
   "outputs": [
    {
     "data": {
      "text/plain": [
       "3.3333333333333335"
      ]
     },
     "execution_count": 7,
     "metadata": {},
     "output_type": "execute_result"
    }
   ],
   "source": [
    "# This will convert 200 minutes to hours by dividing by 60\n",
    "200/60"
   ]
  },
  {
   "attachments": {},
   "cell_type": "markdown",
   "id": "01f20b2e-d502-4e0a-a172-aa86cd8d6bbb",
   "metadata": {},
   "source": [
    "<h2>Author</h2><br><b>Olaoluwa Ayomide</b>"
   ]
  }
 ],
 "metadata": {
  "kernelspec": {
   "display_name": "Python 3 (ipykernel)",
   "language": "python",
   "name": "python3"
  },
  "language_info": {
   "codemirror_mode": {
    "name": "ipython",
    "version": 3
   },
   "file_extension": ".py",
   "mimetype": "text/x-python",
   "name": "python",
   "nbconvert_exporter": "python",
   "pygments_lexer": "ipython3",
   "version": "3.11.7"
  }
 },
 "nbformat": 4,
 "nbformat_minor": 5
}
